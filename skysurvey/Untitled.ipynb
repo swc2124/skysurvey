{
 "cells": [
  {
   "cell_type": "code",
   "execution_count": 1,
   "metadata": {
    "collapsed": true
   },
   "outputs": [],
   "source": [
    "import ebf\n",
    "import numpy as np"
   ]
  },
  {
   "cell_type": "code",
   "execution_count": 2,
   "metadata": {
    "collapsed": true
   },
   "outputs": [],
   "source": [
    "satprops = ebf.read('./satprop.ebf')"
   ]
  },
  {
   "cell_type": "code",
   "execution_count": 7,
   "metadata": {
    "collapsed": false
   },
   "outputs": [
    {
     "name": "stdout",
     "output_type": "stream",
     "text": [
      "jsat [ 0.50700003  0.329       0.57099998 ...,  0.021       0.167       0.51800001]\n",
      "\n",
      "log [ 'Properties of each satellite are stored in a linear list\\nProperty lists are as follows\\n    Tsat = time since accretion (Gyr)\\n    Jsat = circularity of orbit, epsilon\\n    Msat = dark matter mass of satellite\\n    Bsat = bound status. 1 if bound else 0\\n    Esat = binding energy parameter eta, i.e., R_circ/R_vir\\nA pair of numbers (h,s) uniquely defines a satellite\\n    Nsat[h] = number of satellites in halo number h\\n    Nsatc[h]= starting position in satellite property list\\nUsage:\\nTsat[Nsatc[h]+s] is the accretion time of satellite (h,s)\\nValid values of h are 2,5,7,9,10,12,14,15,17 and 20\\nValid values of s are 0 to Nsat[h]-1\\n']\n",
      "\n",
      "msat [  1.64000000e+09   5.48000000e+08   6.97000018e+10 ...,   2.23000000e+08\n",
      "   1.12000000e+09   2.01000000e+08]\n",
      "\n",
      "bsat [1 1 1 ..., 0 0 0]\n",
      "\n",
      "nsat [  0   0 113   0   0 102   0 104 159  97 168   0 102   0 211 155   0 155\n",
      "   0   0 149]\n",
      "\n",
      "esat [ 0.44400001  0.60100001  0.57599998 ...,  0.67900002  0.42399999\n",
      "  0.68400002]\n",
      "\n",
      "tsat [  0.31299999   0.31299999   0.31299999 ...,  12.89999962  13.          13.        ]\n",
      "\n",
      "nsatc [   0    0    0    0    0  113    0  215  416  319  575    0  743    0  845\n",
      " 1056    0 1211    0    0 1366]\n",
      "\n",
      "lsat [  4.56824500e+05   4.68376062e+05   2.23397440e+08 ...,   3.81196582e+03\n",
      "   1.08737861e+04   2.66932275e+03]\n",
      "\n"
     ]
    }
   ],
   "source": [
    "for key in satprops.iterkeys():\n",
    "    print key, satprops[key]\n",
    "    print ''"
   ]
  },
  {
   "cell_type": "code",
   "execution_count": 11,
   "metadata": {
    "collapsed": false
   },
   "outputs": [
    {
     "name": "stdout",
     "output_type": "stream",
     "text": [
      "Properties of each satellite are stored in a linear list\n",
      "\n",
      "Property lists are as follows\n",
      "\n",
      "    Tsat = time since accretion (Gyr)\n",
      "\n",
      "    Jsat = circularity of orbit, epsilon\n",
      "\n",
      "    Msat = dark matter mass of satellite\n",
      "\n",
      "    Bsat = bound status. 1 if bound else 0\n",
      "\n",
      "    Esat = binding energy parameter eta, i.e., R_circ/R_vir\n",
      "\n",
      "A pair of numbers (h,s) uniquely defines a satellite\n",
      "\n",
      "    Nsat[h] = number of satellites in halo number h\n",
      "\n",
      "    Nsatc[h]= starting position in satellite property list\n",
      "\n",
      "Usage:\n",
      "\n",
      "Tsat[Nsatc[h]+s] is the accretion time of satellite (h,s)\n",
      "\n",
      "Valid values of h are 2,5,7,9,10,12,14,15,17 and 20\n",
      "\n",
      "Valid values of s are 0 to Nsat[h]-1\n",
      "\n",
      "\n",
      "\n"
     ]
    }
   ],
   "source": [
    "for line in satprops['log'][0].split('\\n'):\n",
    "    print line\n",
    "    print ''"
   ]
  },
  {
   "cell_type": "code",
   "execution_count": null,
   "metadata": {
    "collapsed": true
   },
   "outputs": [],
   "source": []
  }
 ],
 "metadata": {
  "kernelspec": {
   "display_name": "Python 2",
   "language": "python",
   "name": "python2"
  },
  "language_info": {
   "codemirror_mode": {
    "name": "ipython",
    "version": 2
   },
   "file_extension": ".py",
   "mimetype": "text/x-python",
   "name": "python",
   "nbconvert_exporter": "python",
   "pygments_lexer": "ipython2",
   "version": "2.7.13"
  }
 },
 "nbformat": 4,
 "nbformat_minor": 2
}
