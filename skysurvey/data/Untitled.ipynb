{
 "cells": [
  {
   "cell_type": "code",
   "execution_count": 8,
   "metadata": {
    "collapsed": false
   },
   "outputs": [
    {
     "data": {
      "text/plain": [
       "['C:\\\\Users\\\\swc21\\\\skysurvey\\\\setup.cfg']"
      ]
     },
     "execution_count": 8,
     "metadata": {},
     "output_type": "execute_result"
    }
   ],
   "source": [
    "sys_config_fh = os.path.join(os.path.dirname(\n",
    "    os.path.realpath(skysurvey.__file__)), SYS_CFG_FNAME)\n",
    "SysConfig = ConfigParser.ConfigParser()\n",
    "SysConfig.read(sys_config_fh)\n",
    "config_fh = SysConfig.get('skysurvey_global_settings', 'config_fh')\n",
    "Config = ConfigParser.ConfigParser()\n",
    "Config.read(config_fh)"
   ]
  },
  {
   "cell_type": "code",
   "execution_count": 7,
   "metadata": {
    "collapsed": true
   },
   "outputs": [],
   "source": [
    "import skysurvey\n",
    "from skysurvey.new_config import SYS_CFG_FNAME\n",
    "import os\n",
    "import ConfigParser"
   ]
  },
  {
   "cell_type": "code",
   "execution_count": 15,
   "metadata": {
    "collapsed": false
   },
   "outputs": [
    {
     "name": "stdout",
     "output_type": "stream",
     "text": [
      "z087\n",
      "y106\n",
      "j129\n",
      "h158\n",
      "f184\n",
      "w149\n"
     ]
    }
   ],
   "source": [
    "for filter_type, limit in Config.items('Filter_limits'):\n",
    "    print filter_type"
   ]
  },
  {
   "cell_type": "code",
   "execution_count": 12,
   "metadata": {
    "collapsed": false
   },
   "outputs": [
    {
     "data": {
      "text/plain": [
       "['Distance',\n",
       " 'Sys_keys',\n",
       " 'Data_keys',\n",
       " 'halo_data_settings',\n",
       " 'Filter_limits',\n",
       " 'Filter',\n",
       " 'Platform',\n",
       " 'PATH',\n",
       " 'Data_cut',\n",
       " 'Global',\n",
       " 'grid_options',\n",
       " 'Default_halos',\n",
       " 'Default_magnitude_limits',\n",
       " 'options',\n",
       " 'metadata']"
      ]
     },
     "execution_count": 12,
     "metadata": {},
     "output_type": "execute_result"
    }
   ],
   "source": [
    "Config.sections()"
   ]
  },
  {
   "cell_type": "code",
   "execution_count": null,
   "metadata": {
    "collapsed": true
   },
   "outputs": [],
   "source": []
  }
 ],
 "metadata": {
  "kernelspec": {
   "display_name": "Python 2",
   "language": "python",
   "name": "python2"
  },
  "language_info": {
   "codemirror_mode": {
    "name": "ipython",
    "version": 2
   },
   "file_extension": ".py",
   "mimetype": "text/x-python",
   "name": "python",
   "nbconvert_exporter": "python",
   "pygments_lexer": "ipython2",
   "version": "2.7.13"
  }
 },
 "nbformat": 4,
 "nbformat_minor": 2
}
